{
 "cells": [
  {
   "cell_type": "code",
   "execution_count": 15,
   "metadata": {},
   "outputs": [
    {
     "name": "stdout",
     "output_type": "stream",
     "text": [
      "Downloading data...\n",
      "\n",
      "Parsing through data for US states...\n",
      "\n",
      "Data downloaded in  17.468451976776123\n"
     ]
    }
   ],
   "source": [
    "import numpy as np # linear algebra\n",
    "import pandas as pd # data processing, CSV file I/O (e.g. pd.read_csv)\n",
    "import datetime as dt\n",
    "# Input data files are available in the \"../input/\" directory.\n",
    "# For example, running this (by clicking run or pressing Shift+Enter) will list all files under the input directory\n",
    "import matplotlib.pyplot as plt\n",
    "import os\n",
    "import time\n",
    "import data\n",
    "from data import select_top\n",
    "\n",
    "def linear_regression(y, x, const = True): \n",
    "#y should be in the format of a column from dataframe\n",
    "#x should be tuple of columns\n",
    "    X = np.column_stack(x)\n",
    "    if const:\n",
    "        X = sm.add_constant(X)\n",
    "    model = sm.OLS(y, X)\n",
    "    results = model.fit()\n",
    "    return results\n",
    "\n",
    "Data = data.download()\n",
    "raw_US \t=\tData['raw_US']\n",
    "raw_states \t=\tData['raw_states']\n",
    "raw_County \t=\tData['raw_County']\n",
    "raw_Global \t=\tData['raw_Global']\n",
    "fatality_rates_US = Data['fatality_rates_US']\n",
    "EU \t=\tData['EU']\n",
    "EU_nation \t=\tData['EU_nation']\n",
    "cty_population \t=\tData['cty_population']\n",
    "pop_dict \t=\tData['pop_dict']\n",
    "states_D \t=\tData['states_D']\n",
    "states_R \t=\tData['states_R']\n",
    "US_state_neighbors \t=\tData['US_state_neighbors']\n",
    "state_code \t=\tData['state_code']\n",
    "new_weekly_cases_state \t=\tData['new_weekly_cases_state']\n",
    "new_weekly_deaths_state \t=\tData['new_weekly_deaths_state']\n",
    "percent_weekly_cases \t=\tData['percent_weekly_cases']\n",
    "change_in_new_cases \t=\tData['change_in_new_cases']\n",
    "new_cases_per_mil \t=\tData['new_cases_per_mil']\n",
    "new_death_per_mil \t=\tData['new_death_per_mil']\n",
    "cases_D \t=\tData['cases_D']\n",
    "cases_R \t=\tData['cases_R']\n",
    "pop_D \t=\tData['pop_D']\n",
    "pop_R \t=\tData['pop_R']\n",
    "wk_cases_county \t=\tData['wk_cases_county']\n",
    "wk_deaths_county \t=\tData['wk_deaths_county']\n",
    "cases_cty_thou \t=\tData['cases_cty_thou']"
   ]
  },
  {
   "cell_type": "code",
   "execution_count": 16,
   "metadata": {},
   "outputs": [
    {
     "data": {
      "text/plain": [
       "Index(['iso_code', 'continent', 'location', 'total_cases', 'new_cases',\n",
       "       'total_deaths', 'new_deaths', 'total_cases_per_million',\n",
       "       'new_cases_per_million', 'total_deaths_per_million',\n",
       "       'new_deaths_per_million', 'new_tests', 'total_tests',\n",
       "       'total_tests_per_thousand', 'new_tests_per_thousand',\n",
       "       'new_tests_smoothed', 'new_tests_smoothed_per_thousand',\n",
       "       'tests_per_case', 'positive_rate', 'tests_units', 'stringency_index',\n",
       "       'population', 'population_density', 'median_age', 'aged_65_older',\n",
       "       'aged_70_older', 'gdp_per_capita', 'extreme_poverty',\n",
       "       'cardiovasc_death_rate', 'diabetes_prevalence', 'female_smokers',\n",
       "       'male_smokers', 'handwashing_facilities', 'hospital_beds_per_thousand',\n",
       "       'life_expectancy'],\n",
       "      dtype='object')"
      ]
     },
     "execution_count": 16,
     "metadata": {},
     "output_type": "execute_result"
    }
   ],
   "source": [
    "raw_Globe = pd.read_csv('https://covid.ourworldindata.org/data/owid-covid-data.csv',\n",
    "                  index_col = 'date',\n",
    "                  parse_dates = True).sort_index()\n",
    "\n",
    "raw_Globe.columns"
   ]
  },
  {
   "cell_type": "code",
   "execution_count": 29,
   "metadata": {},
   "outputs": [
    {
     "name": "stdout",
     "output_type": "stream",
     "text": [
      "Pakistan \t 2.81136\n",
      "Philippines \t 1.12593\n",
      "Qatar \t 1.11538\n",
      "Russia \t 8.61423\n",
      "Spain \t 3.02814\n",
      "United Kingdom \t 3.06293\n",
      "United States \t 47.71087\n",
      "World \t 185.19579\n",
      "Mexico \t 4.49961\n",
      "Canada \t 1.17777\n",
      "China \t 0.88206\n",
      "Brazil \t 28.01921\n",
      "Ecuador \t 0.87963\n",
      "Egypt \t 0.94752\n",
      "France \t 1.92334\n",
      "Germany \t 2.12022\n",
      "India \t 19.08254\n",
      "Indonesia \t 1.15056\n",
      "Turkey \t 2.34934\n",
      "Kazakhstan \t 0.94882\n"
     ]
    }
   ],
   "source": [
    "country_list = raw_Globe.location.unique()\n",
    "cases_country_total = {}\n",
    "for count in country_list:\n",
    "    cases_country_total[count] = raw_Globe.loc[ raw_Globe.location == count ].total_cases\n",
    "\n",
    "top = select_top(cases_country_total, 0, 20)\n",
    "\n",
    "for count in top:\n",
    "    print(count, '\\t', cases_country_total[count][-1]/100000)"
   ]
  },
  {
   "cell_type": "code",
   "execution_count": 12,
   "metadata": {},
   "outputs": [
    {
     "data": {
      "text/plain": [
       "281136.0"
      ]
     },
     "execution_count": 12,
     "metadata": {},
     "output_type": "execute_result"
    }
   ],
   "source": [
    "pak = raw_Globe.loc[raw_Globe.location == 'Pakistan']\n",
    "pak.total_cases[-1]"
   ]
  },
  {
   "cell_type": "code",
   "execution_count": null,
   "metadata": {},
   "outputs": [],
   "source": []
  }
 ],
 "metadata": {
  "kernelspec": {
   "display_name": "Python 3",
   "language": "python",
   "name": "python3"
  },
  "language_info": {
   "codemirror_mode": {
    "name": "ipython",
    "version": 3
   },
   "file_extension": ".py",
   "mimetype": "text/x-python",
   "name": "python",
   "nbconvert_exporter": "python",
   "pygments_lexer": "ipython3",
   "version": "3.7.3"
  }
 },
 "nbformat": 4,
 "nbformat_minor": 2
}
