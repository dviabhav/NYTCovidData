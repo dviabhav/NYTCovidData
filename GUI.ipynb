{
 "cells": [
  {
   "cell_type": "code",
   "execution_count": 9,
   "metadata": {},
   "outputs": [
    {
     "name": "stdout",
     "output_type": "stream",
     "text": [
      "Downloading data...\n",
      "\n",
      "Parsing through data for US states...\n",
      "\n",
      "Data downloaded in  13.113168239593506\n"
     ]
    }
   ],
   "source": [
    "import numpy as np # linear algebra\n",
    "import pandas as pd # data processing, CSV file I/O (e.g. pd.read_csv)\n",
    "import datetime as dt\n",
    "# Input data files are available in the \"../input/\" directory.\n",
    "# For example, running this (by clicking run or pressing Shift+Enter) will list all files under the input directory\n",
    "import matplotlib.pyplot as plt\n",
    "import os\n",
    "import time\n",
    "import data\n",
    "from data import select_top\n",
    "\n",
    "def linear_regression(y, x, const = True): \n",
    "#y should be in the format of a column from dataframe\n",
    "#x should be tuple of columns\n",
    "    X = np.column_stack(x)\n",
    "    if const:\n",
    "        X = sm.add_constant(X)\n",
    "    model = sm.OLS(y, X)\n",
    "    results = model.fit()\n",
    "    return results\n",
    "\n",
    "Data = data.download()\n",
    "raw_US \t=\tData['raw_US']\n",
    "raw_states \t=\tData['raw_states']\n",
    "raw_County \t=\tData['raw_County']\n",
    "raw_Global \t=\tData['raw_Global']\n",
    "fatality_rates_US = Data['fatality_rates_US']\n",
    "EU \t=\tData['EU']\n",
    "EU_nation \t=\tData['EU_nation']\n",
    "cty_population \t=\tData['cty_population']\n",
    "pop_dict \t=\tData['pop_dict']\n",
    "states_D \t=\tData['states_D']\n",
    "states_R \t=\tData['states_R']\n",
    "US_state_neighbors \t=\tData['US_state_neighbors']\n",
    "state_code \t=\tData['state_code']\n",
    "new_weekly_cases_state \t=\tData['new_weekly_cases_state']\n",
    "new_weekly_deaths_state \t=\tData['new_weekly_deaths_state']\n",
    "percent_weekly_cases \t=\tData['percent_weekly_cases']\n",
    "change_in_new_cases \t=\tData['change_in_new_cases']\n",
    "new_cases_per_mil \t=\tData['new_cases_per_mil']\n",
    "new_death_per_mil \t=\tData['new_death_per_mil']\n",
    "cases_D \t=\tData['cases_D']\n",
    "cases_R \t=\tData['cases_R']\n",
    "pop_D \t=\tData['pop_D']\n",
    "pop_R \t=\tData['pop_R']\n",
    "wk_cases_county \t=\tData['wk_cases_county']\n",
    "wk_deaths_county \t=\tData['wk_deaths_county']\n",
    "cases_cty_thou \t=\tData['cases_cty_thou']"
   ]
  },
  {
   "cell_type": "code",
   "execution_count": 13,
   "metadata": {},
   "outputs": [],
   "source": [
    "states = states_D+states_R"
   ]
  },
  {
   "cell_type": "code",
   "execution_count": 1,
   "metadata": {},
   "outputs": [
    {
     "name": "stdout",
     "output_type": "stream",
     "text": [
      "You entered  3\n"
     ]
    }
   ],
   "source": [
    "import PySimpleGUI as sg\n",
    "\n",
    "#sg.theme('DarkAmber')   # Add a touch of color\n",
    "# All the stuff inside your window.\n",
    "layout = [  [sg.Text('Some text on Row 1')],\n",
    "            [sg.Text('Enter something on Row 2'), sg.InputText()],\n",
    "            [sg.Button('Ok'), sg.Button('Cancel')] ]\n",
    "\n",
    "# Create the Window\n",
    "window = sg.Window('Window Title', layout)\n",
    "# Event Loop to process \"events\" and get the \"values\" of the inputs\n",
    "while True:\n",
    "    event, values = window.read()\n",
    "    if event == sg.WIN_CLOSED or event == 'Cancel': # if user closes window or clicks cancel\n",
    "        break\n",
    "    print('You entered ', values[0])\n",
    "\n",
    "window.close()\n",
    "\n"
   ]
  },
  {
   "cell_type": "code",
   "execution_count": 33,
   "metadata": {},
   "outputs": [
    {
     "name": "stdout",
     "output_type": "stream",
     "text": [
      "{'state': ['Kentucky']}\n"
     ]
    }
   ],
   "source": [
    "sg.theme('Dark Brown')\n",
    "\n",
    "First = states[0][0]\n",
    "layout = [[sg.Text('Theme Browser')],\n",
    "          [sg.Text('Click a Theme color to see demo window')],\n",
    "          #[sg.Listbox(values=sg.theme_list(), size=(20, 12), key='-LIST-', enable_events=True)],\n",
    "          [sg.Text('ghjfd'), sg.Listbox(values=states, size=(20, 12), key='state', enable_events=True), sg.Text(First)],\n",
    "          [sg.Button('Exit')]]\n",
    "\n",
    "window = sg.Window('Theme Browser', layout)\n",
    "\n",
    "while True:  # Event Loop\n",
    "    event, values = window.read()\n",
    "    if event in (sg.WIN_CLOSED, 'Exit'):\n",
    "        break\n",
    "    #sg.theme(values['-LIST-'][0])\n",
    "    #sg.popup_get_text('This is {}', First)\n",
    "    print(values)\n",
    "\n",
    "window.close()"
   ]
  },
  {
   "cell_type": "code",
   "execution_count": null,
   "metadata": {},
   "outputs": [],
   "source": []
  }
 ],
 "metadata": {
  "kernelspec": {
   "display_name": "Python 3",
   "language": "python",
   "name": "python3"
  },
  "language_info": {
   "codemirror_mode": {
    "name": "ipython",
    "version": 3
   },
   "file_extension": ".py",
   "mimetype": "text/x-python",
   "name": "python",
   "nbconvert_exporter": "python",
   "pygments_lexer": "ipython3",
   "version": "3.7.6"
  }
 },
 "nbformat": 4,
 "nbformat_minor": 4
}
